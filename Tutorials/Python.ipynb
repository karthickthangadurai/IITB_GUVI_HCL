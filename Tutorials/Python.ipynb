{
  "nbformat": 4,
  "nbformat_minor": 0,
  "metadata": {
    "colab": {
      "provenance": []
    },
    "kernelspec": {
      "name": "python3",
      "display_name": "Python 3"
    },
    "language_info": {
      "name": "python"
    }
  },
  "cells": [
    {
      "cell_type": "markdown",
      "source": [
        "# In python everything is an object\n",
        "-----------------------------------\n",
        "## Since everything is an object, any \"thing\" can be assigned to any variable."
      ],
      "metadata": {
        "id": "TeLO1QDYFnU6"
      }
    },
    {
      "cell_type": "markdown",
      "source": [
        "# Python has four in-built data structures\n",
        "------------------------------------------\n",
        ">## 1. List: a mutable collection of objects.\n",
        ">## 2. Tuple: an ordered immutable collection of objects.\n",
        ">## 3. Dictionary: an unordered set of key/value pair.\n",
        ">## 4. Set: An unordered set of unique elements."
      ],
      "metadata": {
        "id": "0GDO52yFGcUb"
      }
    },
    {
      "cell_type": "code",
      "execution_count": null,
      "metadata": {
        "id": "WS9x78GGFjEW"
      },
      "outputs": [],
      "source": [
        "# Lists\n",
        "# Syntax\n",
        "a = []    #syntax"
      ]
    },
    {
      "cell_type": "code",
      "source": [
        "temperature = [32, 34, 36, 38, 40 ,41]\n",
        "temperature"
      ],
      "metadata": {
        "colab": {
          "base_uri": "https://localhost:8080/"
        },
        "id": "my1c9_FoJAki",
        "outputId": "108f0918-891a-435c-f647-bbec90442c67"
      },
      "execution_count": null,
      "outputs": [
        {
          "output_type": "execute_result",
          "data": {
            "text/plain": [
              "[32, 34, 36, 38, 40, 41]"
            ]
          },
          "metadata": {},
          "execution_count": 1
        }
      ]
    },
    {
      "cell_type": "code",
      "source": [
        "language = ['English', 'German', 'Japanese', 'Hindi']\n",
        "len(language)"
      ],
      "metadata": {
        "colab": {
          "base_uri": "https://localhost:8080/"
        },
        "id": "2M5Ppso5JxM2",
        "outputId": "75642fea-f88a-402d-edb3-02a03e2dcac4"
      },
      "execution_count": null,
      "outputs": [
        {
          "output_type": "execute_result",
          "data": {
            "text/plain": [
              "4"
            ]
          },
          "metadata": {},
          "execution_count": 2
        }
      ]
    },
    {
      "cell_type": "code",
      "source": [
        "movie_details = ['Inception', 'Christopher Nolan', 8.9, 50000000]\n",
        "very_odd_list = [[1, 2, 3], ['one', 'two', 'three']]\n",
        "print(len(very_odd_list))"
      ],
      "metadata": {
        "colab": {
          "base_uri": "https://localhost:8080/"
        },
        "id": "1uWZtaKsK_Rk",
        "outputId": "d0f7a213-1b5c-4193-cf37-2f063834023a"
      },
      "execution_count": null,
      "outputs": [
        {
          "output_type": "stream",
          "name": "stdout",
          "text": [
            "2\n"
          ]
        }
      ]
    },
    {
      "cell_type": "code",
      "source": [
        "# Adding elements to a list\n",
        "found = []\n",
        "print(found)"
      ],
      "metadata": {
        "colab": {
          "base_uri": "https://localhost:8080/"
        },
        "id": "7LoXte4NLo7w",
        "outputId": "94d2e506-f707-4c10-ed22-ae390ac0cce4"
      },
      "execution_count": null,
      "outputs": [
        {
          "output_type": "stream",
          "name": "stdout",
          "text": [
            "[]\n"
          ]
        }
      ]
    },
    {
      "cell_type": "code",
      "source": [
        "# use the \"append()\" function\n",
        "found.append(\"a\") #first line\n",
        "print(found)"
      ],
      "metadata": {
        "colab": {
          "base_uri": "https://localhost:8080/"
        },
        "id": "bEcrrhxJMOqs",
        "outputId": "f0cfe4f4-9e5b-4336-aa60-787d056392a2"
      },
      "execution_count": null,
      "outputs": [
        {
          "output_type": "stream",
          "name": "stdout",
          "text": [
            "['a']\n"
          ]
        }
      ]
    },
    {
      "cell_type": "code",
      "source": [
        "found.append('e') #second\n",
        "print(found)"
      ],
      "metadata": {
        "colab": {
          "base_uri": "https://localhost:8080/"
        },
        "id": "VwqqtvNONhCg",
        "outputId": "24d99b96-b68e-4a07-eec0-447ea92fcb56"
      },
      "execution_count": null,
      "outputs": [
        {
          "output_type": "stream",
          "name": "stdout",
          "text": [
            "['a', 'e']\n"
          ]
        }
      ]
    },
    {
      "cell_type": "code",
      "source": [
        "found.append(\"i\") #third\n",
        "print(found)"
      ],
      "metadata": {
        "colab": {
          "base_uri": "https://localhost:8080/",
          "height": 183
        },
        "id": "CoG-R2a4NjTW",
        "outputId": "370ed7f8-e4f0-498a-d583-5fac88e7121f"
      },
      "execution_count": null,
      "outputs": [
        {
          "output_type": "error",
          "ename": "NameError",
          "evalue": "ignored",
          "traceback": [
            "\u001b[0;31m---------------------------------------------------------------------------\u001b[0m",
            "\u001b[0;31mNameError\u001b[0m                                 Traceback (most recent call last)",
            "\u001b[0;32m<ipython-input-10-5dac95ee0a4c>\u001b[0m in \u001b[0;36m<module>\u001b[0;34m()\u001b[0m\n\u001b[0;32m----> 1\u001b[0;31m \u001b[0mfound\u001b[0m\u001b[0;34m.\u001b[0m\u001b[0mappend\u001b[0m\u001b[0;34m(\u001b[0m\u001b[0mi\u001b[0m\u001b[0;34m)\u001b[0m \u001b[0;31m#third\u001b[0m\u001b[0;34m\u001b[0m\u001b[0;34m\u001b[0m\u001b[0m\n\u001b[0m\u001b[1;32m      2\u001b[0m \u001b[0mprint\u001b[0m\u001b[0;34m(\u001b[0m\u001b[0mfound\u001b[0m\u001b[0;34m)\u001b[0m\u001b[0;34m\u001b[0m\u001b[0;34m\u001b[0m\u001b[0m\n",
            "\u001b[0;31mNameError\u001b[0m: name 'i' is not defined"
          ]
        }
      ]
    },
    {
      "cell_type": "code",
      "source": [
        "found.append(\"Christopher Nolan\")\n",
        "print(found)"
      ],
      "metadata": {
        "colab": {
          "base_uri": "https://localhost:8080/"
        },
        "id": "5BrbNbg7Omk9",
        "outputId": "fb28b235-60d9-48b1-cee1-94dedbcb66dc"
      },
      "execution_count": null,
      "outputs": [
        {
          "output_type": "stream",
          "name": "stdout",
          "text": [
            "['a', 'e', 'i', 'Christopher Nolan']\n"
          ]
        }
      ]
    },
    {
      "cell_type": "code",
      "source": [
        "# How to access elements in a list\n",
        "a = [10, 11, 12, 13]\n",
        "\n",
        "# list_name[index]\n",
        "print(a[3])\n",
        "print(a[-2])"
      ],
      "metadata": {
        "colab": {
          "base_uri": "https://localhost:8080/"
        },
        "id": "e5Mlzq_8P5Y2",
        "outputId": "69067b32-dfdb-4dfb-9142-85bc9f980d61"
      },
      "execution_count": null,
      "outputs": [
        {
          "output_type": "stream",
          "name": "stdout",
          "text": [
            "13\n",
            "12\n"
          ]
        }
      ]
    },
    {
      "cell_type": "code",
      "source": [
        "b = [1, 3, 5, 7, 9, 11, 13, 15, 17, 19]\n",
        "\n",
        "#use the len function\n",
        "print(b[len(b)//2])\n",
        "print(len(b))\n",
        "print(b[9])"
      ],
      "metadata": {
        "id": "Cf1F_2wiQmHL"
      },
      "execution_count": null,
      "outputs": []
    },
    {
      "cell_type": "code",
      "source": [
        "# List slicing\n",
        "letters = [\"D\", \"o\", \"n\", \"'\", \"t\", \" \", \"p\", \"a\", \"n\", \"i\", \"c\", \"!\"]\n",
        "\n",
        "# list_name[start:stop:step]\n",
        "print(letters[0:10:3])\n",
        "\n",
        "#[D, \"'\", \"p\", \"i\"]\n",
        "\n",
        "print(letters[::2])\n",
        "#D, n, t, p, n, c\n",
        "print(letters[::-2])"
      ],
      "metadata": {
        "colab": {
          "base_uri": "https://localhost:8080/"
        },
        "id": "pWinqVt2R9wR",
        "outputId": "98260119-a9f8-433f-dd1b-ebf5e59c5f80"
      },
      "execution_count": null,
      "outputs": [
        {
          "output_type": "stream",
          "name": "stdout",
          "text": [
            "['D', \"'\", 'p', 'i']\n",
            "['D', 'n', 't', 'p', 'n', 'c']\n",
            "['!', 'i', 'a', ' ', \"'\", 'o']\n"
          ]
        }
      ]
    },
    {
      "cell_type": "code",
      "source": [
        "# join function\n",
        "# joining_delimeter.join(list_name)\n",
        "\n",
        "print(''.join(letters))"
      ],
      "metadata": {
        "colab": {
          "base_uri": "https://localhost:8080/"
        },
        "id": "uIoZIlloTv3s",
        "outputId": "0541df14-de2b-46a7-d272-cae43de70f4e"
      },
      "execution_count": null,
      "outputs": [
        {
          "output_type": "stream",
          "name": "stdout",
          "text": [
            "Damitoamitnamit'amittamit amitpamitaamitnamitiamitcamit!\n"
          ]
        }
      ]
    },
    {
      "cell_type": "markdown",
      "source": [
        "## Removing the elements from a list"
      ],
      "metadata": {
        "id": "QP6x8xxvUizK"
      }
    },
    {
      "cell_type": "code",
      "source": [
        "# 1. Using the remove function\n",
        "# list_name.remove(element_name)\n",
        "nums = [1, 2, 3, 4]\n",
        "print(nums)\n",
        "nums.remove(3)\n",
        "print(nums)\n"
      ],
      "metadata": {
        "colab": {
          "base_uri": "https://localhost:8080/"
        },
        "id": "_dEp75GXUl4C",
        "outputId": "7e96ecef-91bb-4e9e-f73c-a1534eb61b39"
      },
      "execution_count": null,
      "outputs": [
        {
          "output_type": "stream",
          "name": "stdout",
          "text": [
            "[1, 2, 3, 4]\n",
            "[1, 2, 4]\n"
          ]
        }
      ]
    },
    {
      "cell_type": "code",
      "source": [
        "nums = [1, 2, 3, 4, 3]\n",
        "nums.remove()\n",
        "print(nums)"
      ],
      "metadata": {
        "colab": {
          "base_uri": "https://localhost:8080/",
          "height": 200
        },
        "id": "sVKH838jVORx",
        "outputId": "5b408a79-0b0c-4749-b68a-02cb169d7a6a"
      },
      "execution_count": null,
      "outputs": [
        {
          "output_type": "error",
          "ename": "TypeError",
          "evalue": "ignored",
          "traceback": [
            "\u001b[0;31m---------------------------------------------------------------------------\u001b[0m",
            "\u001b[0;31mTypeError\u001b[0m                                 Traceback (most recent call last)",
            "\u001b[0;32m<ipython-input-27-c8e11f432644>\u001b[0m in \u001b[0;36m<module>\u001b[0;34m()\u001b[0m\n\u001b[1;32m      1\u001b[0m \u001b[0mnums\u001b[0m \u001b[0;34m=\u001b[0m \u001b[0;34m[\u001b[0m\u001b[0;36m1\u001b[0m\u001b[0;34m,\u001b[0m \u001b[0;36m2\u001b[0m\u001b[0;34m,\u001b[0m \u001b[0;36m3\u001b[0m\u001b[0;34m,\u001b[0m \u001b[0;36m4\u001b[0m\u001b[0;34m,\u001b[0m \u001b[0;36m3\u001b[0m\u001b[0;34m]\u001b[0m\u001b[0;34m\u001b[0m\u001b[0;34m\u001b[0m\u001b[0m\n\u001b[0;32m----> 2\u001b[0;31m \u001b[0mnums\u001b[0m\u001b[0;34m.\u001b[0m\u001b[0mremove\u001b[0m\u001b[0;34m(\u001b[0m\u001b[0;34m)\u001b[0m\u001b[0;34m\u001b[0m\u001b[0;34m\u001b[0m\u001b[0m\n\u001b[0m\u001b[1;32m      3\u001b[0m \u001b[0mprint\u001b[0m\u001b[0;34m(\u001b[0m\u001b[0mnums\u001b[0m\u001b[0;34m)\u001b[0m\u001b[0;34m\u001b[0m\u001b[0;34m\u001b[0m\u001b[0m\n",
            "\u001b[0;31mTypeError\u001b[0m: remove() takes exactly one argument (0 given)"
          ]
        }
      ]
    },
    {
      "cell_type": "code",
      "source": [
        "# pop function\n",
        "nums = [1, 2, 3, 4]\n",
        "nums.pop()\n",
        "print(nums)"
      ],
      "metadata": {
        "colab": {
          "base_uri": "https://localhost:8080/"
        },
        "id": "0CgBuLGXVons",
        "outputId": "c2e2a203-2ccc-46fa-fb7d-6c0f61fa52fe"
      },
      "execution_count": null,
      "outputs": [
        {
          "output_type": "stream",
          "name": "stdout",
          "text": [
            "[1, 2, 3]\n"
          ]
        }
      ]
    },
    {
      "cell_type": "code",
      "source": [
        "# insert fuction\n",
        "nums = [1, 2, 3, 4]\n",
        "nums.insert(0, -1)\n",
        "print(nums)"
      ],
      "metadata": {
        "colab": {
          "base_uri": "https://localhost:8080/"
        },
        "id": "H6YMqy0uXK9Q",
        "outputId": "06c0b0c4-e557-436e-fde5-b728013cbd51"
      },
      "execution_count": null,
      "outputs": [
        {
          "output_type": "stream",
          "name": "stdout",
          "text": [
            "[-1, 1, 2, 3, 4]\n"
          ]
        }
      ]
    },
    {
      "cell_type": "code",
      "source": [
        "nums.insert(1, 0)\n",
        "print(nums)"
      ],
      "metadata": {
        "colab": {
          "base_uri": "https://localhost:8080/"
        },
        "id": "05cJwG-XX_9Q",
        "outputId": "8c25429c-2d58-4750-e137-fe9ee626ed58"
      },
      "execution_count": null,
      "outputs": [
        {
          "output_type": "stream",
          "name": "stdout",
          "text": [
            "[-1, 0, 1, 2, 3, 4]\n"
          ]
        }
      ]
    },
    {
      "cell_type": "code",
      "source": [
        "nums.insert(-2, -2)\n",
        "print(nums)"
      ],
      "metadata": {
        "colab": {
          "base_uri": "https://localhost:8080/"
        },
        "id": "HxB35aIoYZ_m",
        "outputId": "4d4c73cb-2498-41ae-d1be-c80a38df4fbf"
      },
      "execution_count": null,
      "outputs": [
        {
          "output_type": "stream",
          "name": "stdout",
          "text": [
            "[-2, -1, 0, 1, 2, 3, 4]\n"
          ]
        }
      ]
    },
    {
      "cell_type": "code",
      "source": [
        "nums.insert(0, \"Don't Panic\")"
      ],
      "metadata": {
        "id": "J_7gvDpLaPbR"
      },
      "execution_count": null,
      "outputs": []
    },
    {
      "cell_type": "code",
      "source": [
        "print(nums)"
      ],
      "metadata": {
        "colab": {
          "base_uri": "https://localhost:8080/"
        },
        "id": "alm2jaCeaWIs",
        "outputId": "4d45643d-c2e5-4641-e116-7d0a1b1c4610"
      },
      "execution_count": null,
      "outputs": [
        {
          "output_type": "stream",
          "name": "stdout",
          "text": [
            "[\"Don't Panic\", -2, -1, 0, 1, 2, 3, 4]\n"
          ]
        }
      ]
    },
    {
      "cell_type": "code",
      "source": [
        "a = [1, 2, 3, 4]\n",
        "b = a\n",
        "b.append(5)\n",
        "print(a)\n",
        "\n",
        "if id(a)==id(b):\n",
        "  print(\"hello\")"
      ],
      "metadata": {
        "colab": {
          "base_uri": "https://localhost:8080/"
        },
        "id": "cgykXudeY8QD",
        "outputId": "80fdd3ac-7ce6-48a7-e820-edd527930ec0"
      },
      "execution_count": null,
      "outputs": [
        {
          "output_type": "stream",
          "name": "stdout",
          "text": [
            "[1, 2, 3, 4, 5]\n",
            "hello\n"
          ]
        }
      ]
    },
    {
      "cell_type": "code",
      "source": [
        "# use the copy function\n",
        "a = [1, 2, 3, 4]\n",
        "b = a.copy()\n",
        "b.append(5)\n",
        "print(a)\n",
        "print(b)"
      ],
      "metadata": {
        "colab": {
          "base_uri": "https://localhost:8080/"
        },
        "id": "odoB0BofZdR0",
        "outputId": "80d9f09e-6b0a-43d9-b741-a6f493fce692"
      },
      "execution_count": null,
      "outputs": [
        {
          "output_type": "stream",
          "name": "stdout",
          "text": [
            "[1, 2, 3, 4]\n",
            "[1, 2, 3, 4, 5]\n"
          ]
        }
      ]
    },
    {
      "cell_type": "code",
      "source": [
        "# Dictionary\n",
        "# Structured data with key and values\n"
      ],
      "metadata": {
        "id": "uYo_fQ5PZyM4"
      },
      "execution_count": null,
      "outputs": []
    },
    {
      "cell_type": "code",
      "source": [
        "# Name: Amit\n",
        "# Gender: M\n",
        "# Age: 27\n",
        "\n",
        "person = {'Name': \"Amit\",\n",
        "          'Gender': 'M',\n",
        "          'Age': 27}\n"
      ],
      "metadata": {
        "id": "9K9LBbg2a09g"
      },
      "execution_count": null,
      "outputs": []
    },
    {
      "cell_type": "code",
      "source": [
        "#accessing a dictionary\n",
        "print(person['Name'])"
      ],
      "metadata": {
        "colab": {
          "base_uri": "https://localhost:8080/"
        },
        "id": "JO6Aj_mmbUca",
        "outputId": "c9f0e02b-814e-4315-a4f6-abe3216ea45f"
      },
      "execution_count": null,
      "outputs": [
        {
          "output_type": "stream",
          "name": "stdout",
          "text": [
            "Amit\n"
          ]
        }
      ]
    },
    {
      "cell_type": "code",
      "source": [
        "print(person['Age'])"
      ],
      "metadata": {
        "colab": {
          "base_uri": "https://localhost:8080/"
        },
        "id": "gv9XLKVNbigD",
        "outputId": "f6e15f4e-bac3-4089-d733-99ac4c0fb985"
      },
      "execution_count": null,
      "outputs": [
        {
          "output_type": "stream",
          "name": "stdout",
          "text": [
            "27\n"
          ]
        }
      ]
    },
    {
      "cell_type": "code",
      "source": [
        "person['Age'] = 29\n",
        "print(person)"
      ],
      "metadata": {
        "colab": {
          "base_uri": "https://localhost:8080/"
        },
        "id": "KlQhjFCdbnE7",
        "outputId": "d9bea2c4-542a-493c-c82c-8850b8d0f611"
      },
      "execution_count": null,
      "outputs": [
        {
          "output_type": "stream",
          "name": "stdout",
          "text": [
            "{'Name': 'Amit', 'Gender': 'M', 'Age': 29}\n"
          ]
        }
      ]
    },
    {
      "cell_type": "code",
      "source": [
        "person['Age'] += 1  # person['Age'] = person['Age'] + 1\n",
        "print(person)"
      ],
      "metadata": {
        "colab": {
          "base_uri": "https://localhost:8080/"
        },
        "id": "UUhSUJPObwTY",
        "outputId": "a1b4288b-4c91-43eb-ddc5-b0d53f409fcf"
      },
      "execution_count": null,
      "outputs": [
        {
          "output_type": "stream",
          "name": "stdout",
          "text": [
            "{'Name': 'Amit', 'Gender': 'M', 'Age': 30}\n"
          ]
        }
      ]
    },
    {
      "cell_type": "code",
      "source": [
        "person['Domain'] = \"computer Science\"\n",
        "print(person)"
      ],
      "metadata": {
        "colab": {
          "base_uri": "https://localhost:8080/"
        },
        "id": "excbD1cXcByG",
        "outputId": "571aa8a6-d308-445a-8275-044d468d618b"
      },
      "execution_count": null,
      "outputs": [
        {
          "output_type": "stream",
          "name": "stdout",
          "text": [
            "{'Name': 'Amit', 'Gender': 'M', 'Age': 30, 'Domain': 'computer Science'}\n"
          ]
        }
      ]
    },
    {
      "cell_type": "code",
      "source": [
        "# Tuples\n",
        "a = (1, 'amit', 7.9)\n",
        "print(a)"
      ],
      "metadata": {
        "colab": {
          "base_uri": "https://localhost:8080/"
        },
        "id": "SxDwtXE9crc1",
        "outputId": "ad45f0a7-4fa0-4203-e253-d19d6c3f61dd"
      },
      "execution_count": null,
      "outputs": [
        {
          "output_type": "stream",
          "name": "stdout",
          "text": [
            "(1, 'amit', 7.9)\n"
          ]
        }
      ]
    },
    {
      "cell_type": "code",
      "source": [
        "print(a[2])"
      ],
      "metadata": {
        "colab": {
          "base_uri": "https://localhost:8080/"
        },
        "id": "s7V7EdoXdjNT",
        "outputId": "298bbb03-d7d4-4036-82fb-f98f13afe164"
      },
      "execution_count": null,
      "outputs": [
        {
          "output_type": "stream",
          "name": "stdout",
          "text": [
            "7.9\n"
          ]
        }
      ]
    },
    {
      "cell_type": "code",
      "source": [
        "a[0] = 2\n",
        "print(a)"
      ],
      "metadata": {
        "colab": {
          "base_uri": "https://localhost:8080/",
          "height": 183
        },
        "id": "ez4PehSFdqkk",
        "outputId": "4c269bf9-4b8f-4e4a-c65a-2e34b2d16d1d"
      },
      "execution_count": null,
      "outputs": [
        {
          "output_type": "error",
          "ename": "TypeError",
          "evalue": "ignored",
          "traceback": [
            "\u001b[0;31m---------------------------------------------------------------------------\u001b[0m",
            "\u001b[0;31mTypeError\u001b[0m                                 Traceback (most recent call last)",
            "\u001b[0;32m<ipython-input-46-84f257ed9428>\u001b[0m in \u001b[0;36m<module>\u001b[0;34m()\u001b[0m\n\u001b[0;32m----> 1\u001b[0;31m \u001b[0ma\u001b[0m\u001b[0;34m[\u001b[0m\u001b[0;36m0\u001b[0m\u001b[0;34m]\u001b[0m \u001b[0;34m=\u001b[0m \u001b[0;36m2\u001b[0m\u001b[0;34m\u001b[0m\u001b[0;34m\u001b[0m\u001b[0m\n\u001b[0m\u001b[1;32m      2\u001b[0m \u001b[0mprint\u001b[0m\u001b[0;34m(\u001b[0m\u001b[0ma\u001b[0m\u001b[0;34m)\u001b[0m\u001b[0;34m\u001b[0m\u001b[0;34m\u001b[0m\u001b[0m\n",
            "\u001b[0;31mTypeError\u001b[0m: 'tuple' object does not support item assignment"
          ]
        }
      ]
    },
    {
      "cell_type": "code",
      "source": [
        "print(len(a))"
      ],
      "metadata": {
        "colab": {
          "base_uri": "https://localhost:8080/"
        },
        "id": "NZHJI6mqd-MS",
        "outputId": "a773615a-29bd-49fb-fcd9-af6af70e1d4c"
      },
      "execution_count": null,
      "outputs": [
        {
          "output_type": "stream",
          "name": "stdout",
          "text": [
            "3\n"
          ]
        }
      ]
    },
    {
      "cell_type": "code",
      "source": [
        "# Sets\n",
        "b = [1, 2, 3, 4, 2, 3, 4]\n",
        "\n",
        "b = set(b)\n",
        "print(b)"
      ],
      "metadata": {
        "colab": {
          "base_uri": "https://localhost:8080/"
        },
        "id": "UG7zckGSeI-H",
        "outputId": "9b9dea6b-dde3-40fb-98fd-30c88f17d340"
      },
      "execution_count": null,
      "outputs": [
        {
          "output_type": "stream",
          "name": "stdout",
          "text": [
            "{1, 2, 3, 4}\n"
          ]
        }
      ]
    },
    {
      "cell_type": "code",
      "source": [
        "b = [1, 2, 3, 4, 4, 3]\n",
        "b = set(b)\n",
        "print(b)"
      ],
      "metadata": {
        "colab": {
          "base_uri": "https://localhost:8080/"
        },
        "id": "c9uM85HLfTff",
        "outputId": "525d2cb0-ca3b-4f6e-b9af-6cc13311d54a"
      },
      "execution_count": null,
      "outputs": [
        {
          "output_type": "stream",
          "name": "stdout",
          "text": [
            "{1, 2, 3, 4}\n"
          ]
        }
      ]
    },
    {
      "cell_type": "code",
      "source": [
        "b = {1, 2, 3, 4}\n",
        "a = {1, 6, 7}\n",
        "\n",
        "c = a.union(b)\n",
        "print(c)"
      ],
      "metadata": {
        "colab": {
          "base_uri": "https://localhost:8080/"
        },
        "id": "afmnKKe8ftcA",
        "outputId": "e9b6a3b6-b260-41a3-f383-d5b7ee17a4c2"
      },
      "execution_count": null,
      "outputs": [
        {
          "output_type": "stream",
          "name": "stdout",
          "text": [
            "{1, 2, 3, 4, 6, 7}\n"
          ]
        }
      ]
    },
    {
      "cell_type": "code",
      "source": [
        "c = a.intersection(b)\n",
        "print(c)"
      ],
      "metadata": {
        "colab": {
          "base_uri": "https://localhost:8080/"
        },
        "id": "w1Xu1W3dgK40",
        "outputId": "78d1dff0-c5ad-4596-de3d-8d968783653f"
      },
      "execution_count": null,
      "outputs": [
        {
          "output_type": "stream",
          "name": "stdout",
          "text": [
            "{1, 2, 3, 4}\n"
          ]
        }
      ]
    },
    {
      "cell_type": "markdown",
      "source": [
        "## How to check for something?"
      ],
      "metadata": {
        "id": "4lxNFbv3PQlN"
      }
    },
    {
      "cell_type": "code",
      "source": [
        "# if statements\n",
        "a = 10\n",
        "b = 12\n",
        "if (a == b):\n",
        "  print(\"yay!\")\n",
        "  z = a+b\n",
        "  print(z)\n",
        "else:\n",
        "  print(\"Whoa!\")\n",
        "  z = a-b\n",
        "  print(z)\n",
        "\n",
        "print(\"over\")"
      ],
      "metadata": {
        "colab": {
          "base_uri": "https://localhost:8080/"
        },
        "id": "iNyIc6qwPiwG",
        "outputId": "9fb1124f-aa86-46c7-8cb3-f66368c7e7c8"
      },
      "execution_count": null,
      "outputs": [
        {
          "output_type": "stream",
          "name": "stdout",
          "text": [
            "Whoa!\n",
            "-2\n",
            "over\n"
          ]
        }
      ]
    },
    {
      "cell_type": "code",
      "source": [
        "# input() function is an inbuilt funtion which takes input from the user\n",
        "today = input(\"Enter today's day: \")\n",
        "condition = input(\"How are you feeling today? \")\n",
        "\n",
        "if today == \"saturday\":\n",
        "  print(\"let's party\")\n",
        "elif today == \"sunday\":\n",
        "  if condition == \"headache\":\n",
        "    print(\"Rest, and recover.\")\n",
        "  else:\n",
        "    print(\"Just relax\")\n",
        "else:\n",
        "  print(\"Work! Work! Work!\")"
      ],
      "metadata": {
        "colab": {
          "base_uri": "https://localhost:8080/"
        },
        "id": "-_U5hNcTRH9m",
        "outputId": "3c7d8c02-c63f-4f28-e713-68782b7965e3"
      },
      "execution_count": null,
      "outputs": [
        {
          "output_type": "stream",
          "name": "stdout",
          "text": [
            "Enter today's day: sunday\n",
            "How are you feeling today? headache\n",
            "Rest, and recover.\n"
          ]
        }
      ]
    },
    {
      "cell_type": "code",
      "source": [
        "# Example-1\n",
        "\n",
        "vowels = ['a', 'e', 'i', 'o', 'u']\n",
        "\n",
        "print(vowels)\n",
        "\n",
        "for each in vowels:\n",
        "  print(each)"
      ],
      "metadata": {
        "colab": {
          "base_uri": "https://localhost:8080/"
        },
        "id": "3l4AeDJXWe0U",
        "outputId": "1b115271-ae17-4f86-9798-81a0a40cd40f"
      },
      "execution_count": null,
      "outputs": [
        {
          "output_type": "stream",
          "name": "stdout",
          "text": [
            "['a', 'e', 'i', 'o', 'u']\n",
            "a\n",
            "e\n",
            "i\n",
            "o\n",
            "u\n"
          ]
        }
      ]
    },
    {
      "cell_type": "code",
      "source": [
        "numbers = [1, 2, 3, 4, 5]\n",
        "\n",
        "for i in numbers:\n",
        "  print(\"hello\")"
      ],
      "metadata": {
        "colab": {
          "base_uri": "https://localhost:8080/"
        },
        "id": "BEbl_VHFalGN",
        "outputId": "58559e51-4924-473c-c8df-3e7fad6a60e7"
      },
      "execution_count": null,
      "outputs": [
        {
          "output_type": "stream",
          "name": "stdout",
          "text": [
            "hello\n",
            "hello\n",
            "hello\n",
            "hello\n",
            "hello\n"
          ]
        }
      ]
    },
    {
      "cell_type": "code",
      "source": [
        "# example-3\n",
        "for i in numbers:\n",
        "  if i%2 == 0:\n",
        "    print(\"something\")\n"
      ],
      "metadata": {
        "id": "KrjN3O8ka_4e"
      },
      "execution_count": null,
      "outputs": []
    },
    {
      "cell_type": "code",
      "source": [
        "vowels = \"aeiou\"\n",
        "\n",
        "for v in vowels:\n",
        "  if v == 'a':\n",
        "    print(\"It's an a\")"
      ],
      "metadata": {
        "colab": {
          "base_uri": "https://localhost:8080/"
        },
        "id": "2d6BeqHsbtKS",
        "outputId": "ccc9976b-e4e0-448d-89ac-6d95d3042490"
      },
      "execution_count": null,
      "outputs": [
        {
          "output_type": "stream",
          "name": "stdout",
          "text": [
            "It's an a\n"
          ]
        }
      ]
    },
    {
      "cell_type": "code",
      "source": [
        "w = \"Amit Arjun Verma\"\n",
        "\n",
        "for j in w:\n",
        "  if j == 'A':\n",
        "    print(\"It's an A\")"
      ],
      "metadata": {
        "colab": {
          "base_uri": "https://localhost:8080/"
        },
        "id": "mMquh69MdExj",
        "outputId": "348dfb81-7f43-4227-93f1-925cd375a400"
      },
      "execution_count": null,
      "outputs": [
        {
          "output_type": "stream",
          "name": "stdout",
          "text": [
            "It's an A\n",
            "It's an A\n"
          ]
        }
      ]
    },
    {
      "cell_type": "code",
      "source": [
        "#iterating over dictionaries\n",
        "person = {'Name': \"Amit\",\n",
        "          'Gender': 'M',\n",
        "          'Age': 27}\n",
        "\n",
        "for item in person:\n",
        "  print(item)"
      ],
      "metadata": {
        "colab": {
          "base_uri": "https://localhost:8080/"
        },
        "id": "XEeP_iU1ehml",
        "outputId": "5a511421-47ac-4d31-88ca-4dc235ba0c06"
      },
      "execution_count": null,
      "outputs": [
        {
          "output_type": "stream",
          "name": "stdout",
          "text": [
            "Name\n",
            "Gender\n",
            "Age\n"
          ]
        }
      ]
    },
    {
      "cell_type": "code",
      "source": [
        "for item in person:\n",
        "  print(item, person[item])"
      ],
      "metadata": {
        "colab": {
          "base_uri": "https://localhost:8080/"
        },
        "id": "5_lBui4mfODo",
        "outputId": "a8825a3b-29e3-4021-fdb6-6875de602d13"
      },
      "execution_count": null,
      "outputs": [
        {
          "output_type": "stream",
          "name": "stdout",
          "text": [
            "Name Amit\n",
            "Gender M\n",
            "Age 27\n"
          ]
        }
      ]
    },
    {
      "cell_type": "code",
      "source": [
        "for key, val in person.items():\n",
        "  print(key, val)"
      ],
      "metadata": {
        "colab": {
          "base_uri": "https://localhost:8080/"
        },
        "id": "QZ1u1ABBfwqF",
        "outputId": "d57633d7-a6f0-4443-f409-e388bbbdccc5"
      },
      "execution_count": null,
      "outputs": [
        {
          "output_type": "stream",
          "name": "stdout",
          "text": [
            "Name Amit\n",
            "Gender M\n",
            "Age 27\n"
          ]
        }
      ]
    },
    {
      "cell_type": "code",
      "source": [
        "# frequency program\n",
        "vowels = \"aeiou\"\n",
        "word = input(\"provide a word to input for vowels: \")\n",
        "\n",
        "found = {}\n",
        "\n",
        "# your code--------(1)\n",
        "\n",
        "\n",
        "for letter in word:\n",
        "  for v in vowels:\n",
        "    if letter == v:\n",
        "\n",
        "      # your code------(2)\n",
        "\n",
        "for ___, ___ in ___: #-----(3)\n",
        "  print(___, ___)"
      ],
      "metadata": {
        "id": "TuE1LrdYhInd"
      },
      "execution_count": null,
      "outputs": []
    },
    {
      "cell_type": "code",
      "source": [
        "# frequency program\n",
        "vowels = \"aeiou\"\n",
        "word = input(\"provide a word to input for vowels: \")\n",
        "\n",
        "found = {}\n",
        "\n",
        "found['a'] = 0\n",
        "found['e'] = 0\n",
        "found['i'] = 0\n",
        "found['o'] = 0\n",
        "found['u'] = 0\n",
        "\n",
        "for letter in word:\n",
        "  for v in vowels:\n",
        "    if letter == v:\n",
        "      found[letter] += 1\n",
        "\n",
        "\n",
        "for key, val in found.items(): #-----(3)\n",
        "  print(key, val)"
      ],
      "metadata": {
        "colab": {
          "base_uri": "https://localhost:8080/"
        },
        "id": "BMiCcgZwkA-r",
        "outputId": "26c021ad-f1a1-4883-bb72-725c0b36faac"
      },
      "execution_count": null,
      "outputs": [
        {
          "output_type": "stream",
          "name": "stdout",
          "text": [
            "provide a word to input for vowels: mississippi\n",
            "a 0\n",
            "e 0\n",
            "i 4\n",
            "o 0\n",
            "u 0\n"
          ]
        }
      ]
    },
    {
      "cell_type": "code",
      "source": [
        "f = {'a'}"
      ],
      "metadata": {
        "id": "fWsGXM1Um0Bd"
      },
      "execution_count": null,
      "outputs": []
    },
    {
      "cell_type": "code",
      "source": [
        "type(f)"
      ],
      "metadata": {
        "colab": {
          "base_uri": "https://localhost:8080/"
        },
        "id": "IuwFmFpfm9qk",
        "outputId": "b7e07e0f-5789-47ee-9691-7d0d1fb15a9f"
      },
      "execution_count": null,
      "outputs": [
        {
          "output_type": "execute_result",
          "data": {
            "text/plain": [
              "set"
            ]
          },
          "metadata": {},
          "execution_count": 14
        }
      ]
    },
    {
      "cell_type": "code",
      "source": [
        "for i in range(0, 10, 2):\n",
        "  print(i)"
      ],
      "metadata": {
        "colab": {
          "base_uri": "https://localhost:8080/"
        },
        "id": "gO5kBHemnzYd",
        "outputId": "6fb4b52f-9f63-48b6-b8a0-bbe620a37e7e"
      },
      "execution_count": null,
      "outputs": [
        {
          "output_type": "stream",
          "name": "stdout",
          "text": [
            "0\n",
            "2\n",
            "4\n",
            "6\n",
            "8\n"
          ]
        }
      ]
    },
    {
      "cell_type": "code",
      "source": [
        "vowels = ['a', 'e', 'i', 'o', 'u']\n",
        "\n",
        "for i in range(len(vowels)):\n",
        "  print(vowels[i])"
      ],
      "metadata": {
        "id": "glIhPsVgoDMf"
      },
      "execution_count": null,
      "outputs": []
    },
    {
      "cell_type": "code",
      "source": [
        "# while loop\n",
        "# while __some_condition_:\n",
        "    #do something\n",
        "\n",
        "i = 0\n",
        "\n",
        "while i < 10:\n",
        "  print(i)\n",
        "  i += 1\n"
      ],
      "metadata": {
        "id": "dRC5YuxHpKQ7",
        "colab": {
          "base_uri": "https://localhost:8080/"
        },
        "outputId": "ad1b4e29-b1c6-4d07-fc3f-4124553e62e7"
      },
      "execution_count": null,
      "outputs": [
        {
          "output_type": "stream",
          "name": "stdout",
          "text": [
            "0\n",
            "1\n",
            "2\n",
            "3\n",
            "4\n",
            "5\n",
            "6\n",
            "7\n",
            "8\n",
            "9\n"
          ]
        }
      ]
    },
    {
      "cell_type": "code",
      "source": [
        "L = [(1,2), (3,4), (5,6)]\n",
        "for v,j in L:\n",
        "  print(v, j)"
      ],
      "metadata": {
        "colab": {
          "base_uri": "https://localhost:8080/"
        },
        "id": "ClZSZlG8j9hm",
        "outputId": "6a5263ac-fa6c-4869-b9f5-7cc4c183fbeb"
      },
      "execution_count": null,
      "outputs": [
        {
          "output_type": "stream",
          "name": "stdout",
          "text": [
            "1 2\n",
            "3 4\n",
            "5 6\n"
          ]
        }
      ]
    },
    {
      "cell_type": "markdown",
      "source": [
        "# Fucntions\n",
        "-----------\n",
        "> ## 1) Function introduces two new keywords: **def** and **return**\n",
        "> ## 2) Function can accept optional arguments.\n",
        "> ## 3) Usually, it contains a documentation."
      ],
      "metadata": {
        "id": "PgQsqzPUtvtv"
      }
    },
    {
      "cell_type": "code",
      "source": [
        "# Syntax of function\n",
        "\n",
        "def sample_function(optional_argument1, optional_argument2):\n",
        "  \"\"\"This is a sample function to show the syntax.\n",
        "      This is the second statement\n",
        "  \"\"\"\n",
        "  # your code\n",
        "  # more code\n",
        "\n",
        "  return something"
      ],
      "metadata": {
        "id": "XZvTZKZ6jsM2"
      },
      "execution_count": null,
      "outputs": []
    },
    {
      "cell_type": "code",
      "source": [
        "# example-1\n",
        "def sums(a, b):\n",
        "  \"\"\" This function takes two number as argument and returns the sum\"\"\"\n",
        "  z = a - b\n",
        "  return z"
      ],
      "metadata": {
        "id": "Z6zYr7xEt28U"
      },
      "execution_count": null,
      "outputs": []
    },
    {
      "cell_type": "code",
      "source": [
        "c = sums(17, 18)\n",
        "print(c)"
      ],
      "metadata": {
        "id": "uGQ0A9vMt51X"
      },
      "execution_count": null,
      "outputs": []
    },
    {
      "cell_type": "markdown",
      "source": [
        "## Basics of Function"
      ],
      "metadata": {
        "id": "QmKkf1VkuHxV"
      }
    },
    {
      "cell_type": "code",
      "source": [
        "# creating the architechture of the function\n",
        "def subs():\n",
        "  a = int(input(\"Enter the first number: \"))\n",
        "  b = int(input(\"Enter the second number: \"))\n",
        "  print(z)\n",
        "  z = a-b"
      ],
      "metadata": {
        "id": "a_K-DHNct6oI"
      },
      "execution_count": null,
      "outputs": []
    },
    {
      "cell_type": "code",
      "source": [
        "c = subs()"
      ],
      "metadata": {
        "id": "IZWSlSxFuMGZ"
      },
      "execution_count": null,
      "outputs": []
    },
    {
      "cell_type": "code",
      "source": [
        "def maximum(L):\n",
        "  max_val = 0\n",
        "  for item in L:\n",
        "    if max_val < item:\n",
        "      max_val = item\n",
        "\n",
        "  return max_val"
      ],
      "metadata": {
        "id": "c64Bza1euPzo"
      },
      "execution_count": null,
      "outputs": []
    },
    {
      "cell_type": "code",
      "source": [
        "def minimum(L):\n",
        "  min_val = L[-1]\n",
        "  for item in L:\n",
        "    if min_val > item:\n",
        "      min_val = item\n",
        "\n",
        "  return min_val"
      ],
      "metadata": {
        "id": "nBZTLrtAuSGT"
      },
      "execution_count": null,
      "outputs": []
    },
    {
      "cell_type": "markdown",
      "source": [
        "## Taking input"
      ],
      "metadata": {
        "id": "MxvwRAVV1Xfd"
      }
    },
    {
      "cell_type": "code",
      "source": [
        "user_input = list(map(int, input().split()))\n",
        "\n",
        "for i in user_input:\n",
        "  print(i, end=\" \")"
      ],
      "metadata": {
        "id": "xj-SIB251WTq"
      },
      "execution_count": null,
      "outputs": []
    },
    {
      "cell_type": "code",
      "source": [
        "# Example-2\n",
        "# write a program to find the maximum element in a list of integers\n",
        "# Constraint: don't use any pre-defined functions (max)\n",
        "\n",
        "user_input = list(map(int, input().split()))\n",
        "\n",
        "mx = user_input[0]\n",
        "for i in user_input:\n",
        "  if i>mx:\n",
        "    mx = i\n",
        "\n",
        "print(mx)"
      ],
      "metadata": {
        "id": "1DVdE5uA1e66"
      },
      "execution_count": null,
      "outputs": []
    },
    {
      "cell_type": "code",
      "source": [
        "# Given a list of N-1 distinct numbers in the range of (1 to N)\n",
        "# Find the missing element\n",
        "\n",
        "# Example\n",
        "\n",
        "# Input\n",
        "# 5\n",
        "# 1 2 5 3"
      ],
      "metadata": {
        "id": "I91O5IRQ1iol"
      },
      "execution_count": null,
      "outputs": []
    }
  ]
}